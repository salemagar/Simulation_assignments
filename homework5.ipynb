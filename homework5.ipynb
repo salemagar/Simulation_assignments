{
 "cells": [
  {
   "cell_type": "code",
   "execution_count": 8,
   "id": "228439d0",
   "metadata": {},
   "outputs": [],
   "source": [
    "import numpy as np\n",
    "from sympy import Matrix"
   ]
  },
  {
   "cell_type": "markdown",
   "id": "2b411d12",
   "metadata": {},
   "source": [
    "Let's assume that the activity starts from day 1 but the initial state starts from day 0"
   ]
  },
  {
   "cell_type": "code",
   "execution_count": 13,
   "id": "9aa2a535",
   "metadata": {},
   "outputs": [
    {
     "data": {
      "text/latex": [
       "$\\displaystyle \\left[\\begin{matrix}0.2 & 0.6 & 0.2\\\\0.1 & 0.6 & 0.3\\\\0.2 & 0.7 & 0.1\\end{matrix}\\right]$"
      ],
      "text/plain": [
       "Matrix([\n",
       "[0.2, 0.6, 0.2],\n",
       "[0.1, 0.6, 0.3],\n",
       "[0.2, 0.7, 0.1]])"
      ]
     },
     "execution_count": 13,
     "metadata": {},
     "output_type": "execute_result"
    }
   ],
   "source": [
    "# Passing each activity transitions as a list\n",
    "rest = [0.2, 0.6, 0.2]\n",
    "exercises = [0.1, 0.6, 0.3]\n",
    "sweeties = [0.2, 0.7, 0.1]\n",
    "\n",
    "# Creating the transition matrix\n",
    "P = Matrix([rest, exercises, sweeties])\n",
    "\n",
    "P"
   ]
  },
  {
   "cell_type": "code",
   "execution_count": 14,
   "id": "cd84a967",
   "metadata": {},
   "outputs": [
    {
     "data": {
      "text/latex": [
       "$\\displaystyle \\left[\\begin{matrix}1\\\\0\\\\0\\end{matrix}\\right]$"
      ],
      "text/plain": [
       "Matrix([\n",
       "[1],\n",
       "[0],\n",
       "[0]])"
      ]
     },
     "execution_count": 14,
     "metadata": {},
     "output_type": "execute_result"
    }
   ],
   "source": [
    "#Initializing initial state\n",
    "s0 = Matrix([1,0,0])\n",
    "s0"
   ]
  },
  {
   "cell_type": "code",
   "execution_count": 22,
   "id": "d8155708",
   "metadata": {
    "scrolled": true
   },
   "outputs": [
    {
     "data": {
      "text/latex": [
       "$\\displaystyle \\left[\\begin{matrix}0.137614678899138\\\\0.137614678898905\\\\0.137614678899515\\end{matrix}\\right]$"
      ],
      "text/plain": [
       "Matrix([\n",
       "[0.137614678899138],\n",
       "[0.137614678898905],\n",
       "[0.137614678899515]])"
      ]
     },
     "execution_count": 22,
     "metadata": {},
     "output_type": "execute_result"
    }
   ],
   "source": [
    "#Calculating probablity on 15th day\n",
    "s15 = np.linalg.matrix_power(P, 15) * s0\n",
    "s15"
   ]
  },
  {
   "cell_type": "code",
   "execution_count": 23,
   "id": "206bea9e",
   "metadata": {},
   "outputs": [
    {
     "data": {
      "text/latex": [
       "$\\displaystyle \\left[\\begin{matrix}0.137614678899087\\\\0.137614678899087\\\\0.137614678899087\\end{matrix}\\right]$"
      ],
      "text/plain": [
       "Matrix([\n",
       "[0.137614678899087],\n",
       "[0.137614678899087],\n",
       "[0.137614678899087]])"
      ]
     },
     "execution_count": 23,
     "metadata": {},
     "output_type": "execute_result"
    }
   ],
   "source": [
    "#Calculating the probability after 10000 days\n",
    "s10000=np.linalg.matrix_power(P, 10000) * s0\n",
    "s10000"
   ]
  },
  {
   "cell_type": "markdown",
   "id": "a93e5e38",
   "metadata": {},
   "source": [
    "From the above two results, I observed that as the number of days increases, the probability distribution tends to converge to a stable state. We can see that in the probabilities on the 15th day as the probablities for different states was almost same. Finally, after a sufficient number of days (in this case, 10,000 days), the probability distribution stabilizes and remains constant."
   ]
  }
 ],
 "metadata": {
  "kernelspec": {
   "display_name": "Python 3 (ipykernel)",
   "language": "python",
   "name": "python3"
  },
  "language_info": {
   "codemirror_mode": {
    "name": "ipython",
    "version": 3
   },
   "file_extension": ".py",
   "mimetype": "text/x-python",
   "name": "python",
   "nbconvert_exporter": "python",
   "pygments_lexer": "ipython3",
   "version": "3.9.12"
  }
 },
 "nbformat": 4,
 "nbformat_minor": 5
}
