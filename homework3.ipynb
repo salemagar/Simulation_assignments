{
 "cells": [
  {
   "cell_type": "markdown",
   "metadata": {
    "id": "s26AyhYpWDq5"
   },
   "source": [
    "## The Uniform Distribution"
   ]
  },
  {
   "cell_type": "markdown",
   "metadata": {
    "id": "zpBI2awMW6Oc"
   },
   "source": [
    "Load libraries. We use the scipy.stats library."
   ]
  },
  {
   "cell_type": "code",
   "execution_count": 16,
   "metadata": {
    "id": "grtbaBqpWDq6"
   },
   "outputs": [],
   "source": [
    "import scipy as sp\n",
    "import numpy as np\n",
    "import seaborn as sns\n",
    "import matplotlib.pyplot as plt"
   ]
  },
  {
   "cell_type": "markdown",
   "metadata": {
    "id": "oByCe-f4WabL"
   },
   "source": [
    "Use scipy library to create a randam uniform distribution data (100000 numbers from 0 to 10)"
   ]
  },
  {
   "cell_type": "code",
   "execution_count": 19,
   "metadata": {
    "id": "bZDkJE3EWDq8"
   },
   "outputs": [
    {
     "data": {
      "text/plain": [
       "array([1.61380753, 8.51998742, 1.78930101, ..., 3.56205653, 5.59054774,\n",
       "       8.06311064])"
      ]
     },
     "execution_count": 19,
     "metadata": {},
     "output_type": "execute_result"
    }
   ],
   "source": [
    "#np.random.seed(23)\n",
    "r_data = sp.random.uniform(0, 10, 100000)\n",
    "r_data"
   ]
  },
  {
   "cell_type": "markdown",
   "metadata": {
    "id": "VDFCdnvxXKBO"
   },
   "source": [
    "Plot the following density distribution.\n",
    "You can use figsize=(9,9), xlim=(-1,11)"
   ]
  },
  {
   "cell_type": "code",
   "execution_count": 28,
   "metadata": {
    "colab": {
     "base_uri": "https://localhost:8080/",
     "height": 537
    },
    "executionInfo": {
     "elapsed": 6133,
     "status": "ok",
     "timestamp": 1643988578835,
     "user": {
      "displayName": "Xiaoli Huan",
      "photoUrl": "https://lh3.googleusercontent.com/a/default-user=s64",
      "userId": "12700089891795799701"
     },
     "user_tz": 360
    },
    "id": "sv6O_1QTWDq8",
    "outputId": "5dca24b2-a70e-4f83-ff6e-aec088124646"
   },
   "outputs": [
    {
     "data": {
      "image/png": "[encoded data removed]",
      "text/plain": [
       "<Figure size 648x648 with 1 Axes>"
      ]
     },
     "metadata": {
      "needs_background": "light"
     },
     "output_type": "display_data"
    }
   ],
   "source": [
    "# Setting the figure size and x-axis limits\n",
    "fig, ax = plt.subplots(figsize=(9, 9))\n",
    "ax.set_xlim(-1, 11)\n",
    "\n",
    "# Plotting the density distribution\n",
    "sns.kdeplot(r_data, color='steelblue', linewidth=2)\n",
    "\n",
    "# Adding labels and title\n",
    "ax.set_ylabel('Density')\n",
    "ax.set_title('Density Distribution')\n",
    "\n",
    "# Displaying the plot\n",
    "plt.show()"
   ]
  },
  {
   "cell_type": "markdown",
   "metadata": {
    "id": "fTrcokY6WDq9"
   },
   "source": [
    "\n",
    "\n",
    "Check scipy libraries and use useful functions. "
   ]
  },
  {
   "cell_type": "markdown",
   "metadata": {
    "id": "zksEWTRzYZRW"
   },
   "source": [
    "cdf (cumulative distribution function) gives you the area under the distribution's density curve to the left of a certain value on the x axis. Calculate cdf with x axis from 0 to 2.5. "
   ]
  },
  {
   "cell_type": "code",
   "execution_count": 34,
   "metadata": {
    "colab": {
     "base_uri": "https://localhost:8080/"
    },
    "executionInfo": {
     "elapsed": 17,
     "status": "ok",
     "timestamp": 1643988578837,
     "user": {
      "displayName": "Xiaoli Huan",
      "photoUrl": "https://lh3.googleusercontent.com/a/default-user=s64",
      "userId": "12700089891795799701"
     },
     "user_tz": 360
    },
    "id": "h9rCwTP9WDq-",
    "outputId": "a5938499-cf68-4ce0-8f62-a8d2d89a8a36"
   },
   "outputs": [
    {
     "data": {
      "text/plain": [
       "array([0.5       , 0.51007323, 0.52014004, 0.53019402, 0.54022878,\n",
       "       0.55023798, 0.56021532, 0.57015456, 0.58004953, 0.58989416,\n",
       "       0.59968245, 0.60940852, 0.61906662, 0.62865109, 0.63815644,\n",
       "       0.64757731, 0.6569085 , 0.66614497, 0.67528186, 0.68431448,\n",
       "       0.69323832, 0.70204908, 0.71074264, 0.7193151 , 0.72776275,\n",
       "       0.7360821 , 0.74426988, 0.75232304, 0.76023873, 0.76801435,\n",
       "       0.7756475 , 0.78313602, 0.79047797, 0.79767162, 0.80471548,\n",
       "       0.81160827, 0.81834893, 0.82493662, 0.8313707 , 0.83765075,\n",
       "       0.84377655, 0.84974808, 0.85556552, 0.86122922, 0.86673974,\n",
       "       0.8720978 , 0.87730429, 0.88236029, 0.88726701, 0.89202582,\n",
       "       0.89663824, 0.90110592, 0.90543065, 0.90961433, 0.91365898,\n",
       "       0.91756673, 0.92133981, 0.92498053, 0.9284913 , 0.9318746 ,\n",
       "       0.93513298, 0.93826905, 0.94128548, 0.94418498, 0.94697031,\n",
       "       0.94964426, 0.95220965, 0.95466931, 0.9570261 , 0.95928288,\n",
       "       0.96144252, 0.96350788, 0.96548183, 0.96736719, 0.9691668 ,\n",
       "       0.97088347, 0.97251998, 0.97407906, 0.97556344, 0.97697581,\n",
       "       0.97831878, 0.97959497, 0.98080691, 0.98195711, 0.98304802,\n",
       "       0.98408204, 0.9850615 , 0.98598869, 0.98686585, 0.98769515,\n",
       "       0.98847869, 0.98921853, 0.98991666, 0.99057502, 0.99119546,\n",
       "       0.99177982, 0.99232982, 0.99284716, 0.99333348, 0.99379033])"
      ]
     },
     "execution_count": 34,
     "metadata": {},
     "output_type": "execute_result"
    }
   ],
   "source": [
    "from scipy.stats import norm\n",
    "\n",
    "# Setting the x-axis range\n",
    "x = np.linspace(0, 2.5, 100)\n",
    "\n",
    "# Calculating the CDF assuming a standard normal distribution\n",
    "cdf = norm.cdf(x, loc=0, scale=1)\n",
    "cdf"
   ]
  },
  {
   "cell_type": "markdown",
   "metadata": {
    "id": "YSH29ZK1WDq_"
   },
   "source": [
    "ppf() is the inverse of cdf(): it returns the x axis cutoff value (quantile) associated with a given probability. Caculate the cutoff value for propabality with 40%."
   ]
  },
  {
   "cell_type": "code",
   "execution_count": 36,
   "metadata": {
    "colab": {
     "base_uri": "https://localhost:8080/"
    },
    "executionInfo": {
     "elapsed": 15,
     "status": "ok",
     "timestamp": 1643988578837,
     "user": {
      "displayName": "Xiaoli Huan",
      "photoUrl": "https://lh3.googleusercontent.com/a/default-user=s64",
      "userId": "12700089891795799701"
     },
     "user_tz": 360
    },
    "id": "0Qdov9KjWDq_",
    "outputId": "f84ec513-8308-410a-8c67-bbacdebefe10"
   },
   "outputs": [
    {
     "data": {
      "text/plain": [
       "1.0"
      ]
     },
     "execution_count": 36,
     "metadata": {},
     "output_type": "execute_result"
    }
   ],
   "source": [
    "from scipy.stats import uniform\n",
    "\n",
    "# Defining the probability of 40% as 0.4 \n",
    "probability = 0.4\n",
    "\n",
    "# Calculating the cutoff value using PPF\n",
    "cutoff = uniform.ppf(probability, loc=0, scale=2.5)\n",
    "cutoff"
   ]
  },
  {
   "cell_type": "markdown",
   "metadata": {
    "id": "TCqkfCI5WDrA"
   },
   "source": [
    "Demonstrate for uniform distribution, x values within the range will have the same probability desity.  x values outside the range have a probability density of 0. The output is similar as the following."
   ]
  },
  {
   "cell_type": "code",
   "execution_count": null,
   "metadata": {
    "colab": {
     "base_uri": "https://localhost:8080/"
    },
    "executionInfo": {
     "elapsed": 14,
     "status": "ok",
     "timestamp": 1643988578838,
     "user": {
      "displayName": "Xiaoli Huan",
      "photoUrl": "https://lh3.googleusercontent.com/a/default-user=s64",
      "userId": "12700089891795799701"
     },
     "user_tz": 360
    },
    "id": "KosCGaV6WDrA",
    "outputId": "762da409-e318-498a-9eb1-ec058b3df0b8"
   },
   "outputs": [
    {
     "name": "stdout",
     "output_type": "stream",
     "text": [
      "Density at x value -1\n",
      "0.0\n",
      "Density at x value 2\n",
      "0.1\n",
      "Density at x value 5\n",
      "0.1\n",
      "Density at x value 8\n",
      "0.1\n",
      "Density at x value 11\n",
      "0.0\n"
     ]
    }
   ],
   "source": []
  },
  {
   "cell_type": "code",
   "execution_count": 72,
   "metadata": {},
   "outputs": [
    {
     "name": "stdout",
     "output_type": "stream",
     "text": [
      "Density at x value -1\n",
      "0\n",
      "Density at x value 2\n",
      "0.1\n",
      "Density at x value 5\n",
      "0.1\n",
      "Density at x value 8\n",
      "0.1\n",
      "Density at x value 11\n",
      "0\n"
     ]
    }
   ],
   "source": [
    "from scipy.stats import uniform\n",
    "\n",
    "# Defining the x values\n",
    "x_vals = [-1, 2, 5, 8, 11]\n",
    "\n",
    "# Defining the range of the uniform distribution\n",
    "lower_bound = 1\n",
    "upper_bound = 10\n",
    "\n",
    "# Calculating the density for each x value\n",
    "densities = []\n",
    "for x in x_vals:\n",
    "    if x >= lower_bound and x <= upper_bound:\n",
    "        density = 1 / (upper_bound - lower_bound)\n",
    "    else:\n",
    "        density = 0\n",
    "    densities.append(density) \n",
    "\n",
    "    \n",
    "# Printing the densities\n",
    "for i in range(len(x_vals)):\n",
    "    print(\"Density at x value\", x_vals[i])\n",
    "    print(round(densities[i], 1))\n"
   ]
  },
  {
   "cell_type": "markdown",
   "metadata": {
    "id": "eDG_C5DLWDrA"
   },
   "source": [
    "Probability distribution functions in scipy also support median(), mean(), var() and std()."
   ]
  },
  {
   "cell_type": "markdown",
   "metadata": {
    "id": "dzU_xIDZWDrD"
   },
   "source": [
    "## The Normal Distribution"
   ]
  },
  {
   "cell_type": "markdown",
   "metadata": {
    "id": "4tlmrT-6WDrE"
   },
   "source": [
    "\n",
    "Use scipy's norm to have normal distribution (see the graph below) .  The normal distribution has default vaues of  mean of 0 and standard deviation of 1. Investigate what percentage of data generated by a default normal distribution is below -1. What percentage of data generated is above 1 and what percentage lies between -1 and 1. Print the three percentages. The output is similar as the following. "
   ]
  },
  {
   "cell_type": "code",
   "execution_count": 87,
   "metadata": {
    "colab": {
     "base_uri": "https://localhost:8080/"
    },
    "executionInfo": {
     "elapsed": 5,
     "status": "ok",
     "timestamp": 1643988579087,
     "user": {
      "displayName": "Xiaoli Huan",
      "photoUrl": "https://lh3.googleusercontent.com/a/default-user=s64",
      "userId": "12700089891795799701"
     },
     "user_tz": 360
    },
    "id": "4OrSDB0_WDrE",
    "outputId": "8f127208-946e-415b-a28c-6bd52d452113"
   },
   "outputs": [
    {
     "name": "stdout",
     "output_type": "stream",
     "text": [
      "0.15865525393145707 0.15865525393145707 0.6826894921370859\n"
     ]
    }
   ],
   "source": [
    "from scipy.stats import norm\n",
    "\n",
    "# Calculating the percentage for below -1\n",
    "bn1 = norm.cdf(-1)\n",
    "\n",
    "# Calculating the percentage for above 1\n",
    "a1 = 1 - norm.cdf(1)\n",
    "\n",
    "# Calculating the percentage for between -1 and 1\n",
    "in_between = norm.cdf(1) - norm.cdf(-1)\n",
    "\n",
    "print(bn1, a1, in_between)"
   ]
  },
  {
   "cell_type": "markdown",
   "metadata": {
    "id": "wpzcmComWDrE"
   },
   "source": [
    "Plotting is not required. The codes will be included in the solution. The image below shows the bell shape normal distribution.  "
   ]
  },
  {
   "cell_type": "code",
   "execution_count": null,
   "metadata": {
    "colab": {
     "base_uri": "https://localhost:8080/",
     "height": 537
    },
    "executionInfo": {
     "elapsed": 503,
     "status": "ok",
     "timestamp": 1643988579586,
     "user": {
      "displayName": "Xiaoli Huan",
      "photoUrl": "https://lh3.googleusercontent.com/a/default-user=s64",
      "userId": "12700089891795799701"
     },
     "user_tz": 360
    },
    "id": "aAhigYlmWDrE",
    "outputId": "fde3c1f4-4d84-4182-bbaa-d4dc54c469ec"
   },
   "outputs": [
    {
     "data": {
      "image/png": "[encoded data removed]",
      "text/plain": [
       "<Figure size 648x648 with 1 Axes>"
      ]
     },
     "metadata": {
      "needs_background": "light"
     },
     "output_type": "display_data"
    }
   ],
   "source": [
    "\n"
   ]
  },
  {
   "cell_type": "markdown",
   "metadata": {
    "id": "y3_jL-q7WDrF"
   },
   "source": [
    "\n",
    "print the ppf for 2.5% cutoff and 97.5% cutoff. The output is similar as the following"
   ]
  },
  {
   "cell_type": "code",
   "execution_count": 86,
   "metadata": {
    "colab": {
     "base_uri": "https://localhost:8080/"
    },
    "executionInfo": {
     "elapsed": 237,
     "status": "ok",
     "timestamp": 1643988596033,
     "user": {
      "displayName": "Xiaoli Huan",
      "photoUrl": "https://lh3.googleusercontent.com/a/default-user=s64",
      "userId": "12700089891795799701"
     },
     "user_tz": 360
    },
    "id": "6z018RRmWDrF",
    "outputId": "9aac4ea4-d5a3-4f2f-de34-396e9a7c645c"
   },
   "outputs": [
    {
     "name": "stdout",
     "output_type": "stream",
     "text": [
      "-1.9599639845400545\n",
      "1.959963984540054\n"
     ]
    }
   ],
   "source": [
    "ppf1 = norm.ppf(0.025)\n",
    "ppf2 = norm.ppf(0.975)\n",
    "\n",
    "print(ppf1)\n",
    "print(ppf2)"
   ]
  },
  {
   "cell_type": "markdown",
   "metadata": {
    "id": "nV_a8hFzWDrF"
   },
   "source": [
    "The quantile output above confirms that roughly 5% of the data lies more than 2 standard deviations from the mean.\n"
   ]
  },
  {
   "cell_type": "markdown",
   "metadata": {
    "id": "jMRGOfRlWDrF"
   },
   "source": [
    "## The Binomial Distribution"
   ]
  },
  {
   "cell_type": "markdown",
   "metadata": {
    "id": "M_3gvuROWDrF"
   },
   "source": [
    "We will use binomial distribution to model coin flips. The scipy name for the binomial is binom. Here we set the number of flips per trial to 10,  the number of trials to 10000, and success probability to 0.5. \n",
    "\n",
    "Create a random binomial distribution data \"fair_coin_flips\" in the code line below."
   ]
  },
  {
   "cell_type": "code",
   "execution_count": 91,
   "metadata": {
    "colab": {
     "base_uri": "https://localhost:8080/",
     "height": 605
    },
    "executionInfo": {
     "elapsed": 735,
     "status": "ok",
     "timestamp": 1643988580318,
     "user": {
      "displayName": "Xiaoli Huan",
      "photoUrl": "https://lh3.googleusercontent.com/a/default-user=s64",
      "userId": "12700089891795799701"
     },
     "user_tz": 360
    },
    "id": "n9AXH35TWDrF",
    "outputId": "8957f7e2-4c30-4a18-9d09-301da589e2a3"
   },
   "outputs": [
    {
     "name": "stdout",
     "output_type": "stream",
     "text": [
      "col_0   0   1    2     3     4     5     6     7    8    9   10\n",
      "row_0                                                          \n",
      "counts   4  94  435  1098  2075  2503  2078  1194  406  108   5\n"
     ]
    },
    {
     "data": {
      "image/png": "[encoded data removed]",
      "text/plain": [
       "<Figure size 432x288 with 1 Axes>"
      ]
     },
     "metadata": {
      "needs_background": "light"
     },
     "output_type": "display_data"
    }
   ],
   "source": [
    "# Codes are provided here. \n",
    "# Print out the counts for 0 heads, 1 head, ...10 heads of each trial with 10000 trials. \n",
    "from scipy.stats import binom\n",
    "import pandas as pd\n",
    "\n",
    "flips = 10\n",
    "trials = 10000\n",
    "s_prob = 0.5\n",
    "\n",
    "# Creating the binomial distribution object\n",
    "dist = binom(flips, s_prob)\n",
    "\n",
    "# Generating random samples from the binomial distribution\n",
    "fair_coin_flips = dist.rvs(trials)\n",
    "print( pd.crosstab(index=\"counts\", columns= fair_coin_flips))\n",
    "# Drawing the histogram.\n",
    "pd.DataFrame(fair_coin_flips).hist(range=(-0.5,10.5), bins=11);"
   ]
  },
  {
   "cell_type": "markdown",
   "metadata": {
    "id": "6NOTE2BIWDrG"
   },
   "source": [
    "The histogram above shows us that a binomial distribution with a 50% probability of success is roughly symmetric, with the most likely outcomes lying at the center. \n",
    "Change the success rate to 0.8, implement the codes similar as above to show the distribution won't be symmetric:"
   ]
  },
  {
   "cell_type": "code",
   "execution_count": 92,
   "metadata": {
    "colab": {
     "base_uri": "https://localhost:8080/",
     "height": 605
    },
    "executionInfo": {
     "elapsed": 479,
     "status": "ok",
     "timestamp": 1643988580794,
     "user": {
      "displayName": "Xiaoli Huan",
      "photoUrl": "https://lh3.googleusercontent.com/a/default-user=s64",
      "userId": "12700089891795799701"
     },
     "user_tz": 360
    },
    "id": "ayZSW5zmWDrG",
    "outputId": "9b6e5bc1-2137-478d-f670-c6021be75c1a"
   },
   "outputs": [
    {
     "name": "stdout",
     "output_type": "stream",
     "text": [
      "col_0   2   3   4    5    6     7     8     9     10\n",
      "row_0                                               \n",
      "counts   1   7  49  256  849  2025  2968  2775  1070\n"
     ]
    },
    {
     "data": {
      "image/png": "[encoded data removed]",
      "text/plain": [
       "<Figure size 432x288 with 1 Axes>"
      ]
     },
     "metadata": {
      "needs_background": "light"
     },
     "output_type": "display_data"
    }
   ],
   "source": [
    "s_prob2 = 0.8\n",
    "\n",
    "# Creating the binomial distribution object\n",
    "dist2 = binom(flips, s_prob2)\n",
    "\n",
    "# Generating random samples from the binomial distribution\n",
    "fair_coin_flips2 = dist2.rvs(trials)\n",
    "print( pd.crosstab(index=\"counts\", columns= fair_coin_flips2))\n",
    "# Drawing the histogram.\n",
    "pd.DataFrame(fair_coin_flips2).hist(range=(-0.5,10.5), bins=11);"
   ]
  },
  {
   "cell_type": "markdown",
   "metadata": {
    "id": "ybMhEMhOWDrG"
   },
   "source": [
    "Continue from above binomial distribution(success rate=0.8), give the codes to get the probability of achieving 5 heads or less with 10 flips."
   ]
  },
  {
   "cell_type": "code",
   "execution_count": null,
   "metadata": {
    "colab": {
     "base_uri": "https://localhost:8080/"
    },
    "executionInfo": {
     "elapsed": 234,
     "status": "ok",
     "timestamp": 1643988581025,
     "user": {
      "displayName": "Xiaoli Huan",
      "photoUrl": "https://lh3.googleusercontent.com/a/default-user=s64",
      "userId": "12700089891795799701"
     },
     "user_tz": 360
    },
    "id": "Fhm0ScKWWDrG",
    "outputId": "c694302b-e37b-40bd-a66d-d93d22064eb3"
   },
   "outputs": [
    {
     "data": {
      "text/plain": [
       "0.032793497599999964"
      ]
     },
     "execution_count": 17,
     "metadata": {},
     "output_type": "execute_result"
    }
   ],
   "source": [
    "flips2 = 10\n",
    "trials2 = 1 #\n",
    "\n",
    "dist3 = binom(flips2, s_prob2)\n",
    "\n",
    "# Calculating the probability of achieving 5 heads or less\n",
    "prob1 = dist3.cdf(5)\n",
    "\n",
    "prob1"
   ]
  },
  {
   "cell_type": "markdown",
   "metadata": {
    "id": "EdSbcxw62Y9x"
   },
   "source": [
    "Continue from above binomial distribution(success rate=0.8), give the codes to get the probability of achieving 9 heads or more with 10 flips."
   ]
  },
  {
   "cell_type": "code",
   "execution_count": null,
   "metadata": {
    "colab": {
     "base_uri": "https://localhost:8080/"
    },
    "executionInfo": {
     "elapsed": 4,
     "status": "ok",
     "timestamp": 1643988581025,
     "user": {
      "displayName": "Xiaoli Huan",
      "photoUrl": "https://lh3.googleusercontent.com/a/default-user=s64",
      "userId": "12700089891795799701"
     },
     "user_tz": 360
    },
    "id": "HBxh9yKQWDrG",
    "outputId": "668ef6b9-b62c-4056-fa68-4b2b195fe6d1"
   },
   "outputs": [
    {
     "data": {
      "text/plain": [
       "0.37580963840000003"
      ]
     },
     "execution_count": 18,
     "metadata": {},
     "output_type": "execute_result"
    }
   ],
   "source": [
    "# Subtracting the cumulative probability up to 8 from 1\n",
    "prob2 = 1 - dist3.cdf(8) \n",
    "prob2"
   ]
  },
  {
   "cell_type": "markdown",
   "metadata": {
    "id": "muBEhjHyWDrH"
   },
   "source": [
    "For continuous probability density functions, you use pdf() to check the probability density at a given x value. For discrete distributions like the binomial, use stats.distribution.pmf() (probability mass function) to check the mass (proportion of observations) at given number of successes k. \n",
    "Write codes to give the probability density at 5 heads with success rate of 0.5 of 10 flips."
   ]
  },
  {
   "cell_type": "code",
   "execution_count": 99,
   "metadata": {
    "colab": {
     "base_uri": "https://localhost:8080/"
    },
    "executionInfo": {
     "elapsed": 4,
     "status": "ok",
     "timestamp": 1643988581026,
     "user": {
      "displayName": "Xiaoli Huan",
      "photoUrl": "https://lh3.googleusercontent.com/a/default-user=s64",
      "userId": "12700089891795799701"
     },
     "user_tz": 360
    },
    "id": "pn7DjhdIWDrH",
    "outputId": "82bc499a-eb18-44c1-e088-5090de6d8304"
   },
   "outputs": [
    {
     "data": {
      "text/plain": [
       "0.24609375000000003"
      ]
     },
     "execution_count": 99,
     "metadata": {},
     "output_type": "execute_result"
    }
   ],
   "source": [
    "n_flips = 10\n",
    "s_rate = 0.5\n",
    "\n",
    "# Creating the binomial distribution object\n",
    "d = binom(n_flips, s_rate)\n",
    "\n",
    "# Calculating the probability density at 5 heads\n",
    "pmf = d.pmf(5)\n",
    "\n",
    "pmf"
   ]
  },
  {
   "cell_type": "markdown",
   "metadata": {
    "id": "yygZPFEa8TEG"
   },
   "source": [
    "What about the probability density at 8 heads with success rate of 0.8 of 10 flips?"
   ]
  },
  {
   "cell_type": "code",
   "execution_count": 104,
   "metadata": {
    "colab": {
     "base_uri": "https://localhost:8080/"
    },
    "executionInfo": {
     "elapsed": 4,
     "status": "ok",
     "timestamp": 1643988581026,
     "user": {
      "displayName": "Xiaoli Huan",
      "photoUrl": "https://lh3.googleusercontent.com/a/default-user=s64",
      "userId": "12700089891795799701"
     },
     "user_tz": 360
    },
    "id": "XNCfMBj6WDrH",
    "outputId": "40b81817-a973-445e-868e-1b988907844c"
   },
   "outputs": [
    {
     "data": {
      "text/plain": [
       "0.30198988799999993"
      ]
     },
     "execution_count": 104,
     "metadata": {},
     "output_type": "execute_result"
    }
   ],
   "source": [
    "s_rate2 = 0.8\n",
    "\n",
    "d2 = binom(n_flips, s_rate2)\n",
    "\n",
    "pmf2 = d2.pmf(8)\n",
    "pmf2"
   ]
  },
  {
   "cell_type": "markdown",
   "metadata": {
    "id": "LKqkiSsnWDrJ"
   },
   "source": [
    "## Wrap Up"
   ]
  },
  {
   "cell_type": "markdown",
   "metadata": {
    "id": "HEVLHyABWDrK"
   },
   "source": [
    "Extra information of Exponential Distributions and Poisson Distributions will be given in the solution. \n",
    "\n",
    "\n",
    "Python's scipy library contains functions that make it easy to work with a wide range of probability distributions, including [many that we did not discuss](https://docs.scipy.org/doc/scipy/reference/stats.html) in this lesson. Probability distribution functions are useful for generating random data, modeling random events and aiding with statistical tests and analysis.\n"
   ]
  }
 ],
 "metadata": {
  "colab": {
   "collapsed_sections": [],
   "name": "homework3.ipynb",
   "provenance": []
  },
  "kernelspec": {
   "display_name": "Python 3 (ipykernel)",
   "language": "python",
   "name": "python3"
  },
  "language_info": {
   "codemirror_mode": {
    "name": "ipython",
    "version": 3
   },
   "file_extension": ".py",
   "mimetype": "text/x-python",
   "name": "python",
   "nbconvert_exporter": "python",
   "pygments_lexer": "ipython3",
   "version": "3.9.12"
  }
 },
 "nbformat": 4,
 "nbformat_minor": 1
}
