{
 "cells": [
  {
   "cell_type": "markdown",
   "metadata": {
    "id": "nF0Ps19ADEAg"
   },
   "source": [
    "\n",
    "1. Use for loop to generate 3 random integers between 100 and 999 which is divisible by 5. \n",
    "\n"
   ]
  },
  {
   "cell_type": "code",
   "execution_count": 10,
   "metadata": {
    "colab": {
     "base_uri": "https://localhost:8080/"
    },
    "executionInfo": {
     "elapsed": 133,
     "status": "ok",
     "timestamp": 1648925253159,
     "user": {
      "displayName": "Xiaoli Huan",
      "userId": "12700089891795799701"
     },
     "user_tz": 300
    },
    "id": "TioIKiMBDPGR",
    "outputId": "be145924-866c-471b-f990-eae694b57483"
   },
   "outputs": [
    {
     "data": {
      "text/plain": [
       "[170, 700, 315]"
      ]
     },
     "execution_count": 10,
     "metadata": {},
     "output_type": "execute_result"
    }
   ],
   "source": [
    "import random\n",
    "\n",
    "result = []\n",
    "while len(result) != 3:\n",
    "    rand_num = random.randint(100, 999)\n",
    "    if rand_num % 5 == 0:\n",
    "        result.append(rand_num)\n",
    "result"
   ]
  },
  {
   "cell_type": "markdown",
   "metadata": {
    "id": "hyXLw2juDQBR"
   },
   "source": [
    "2.The Logistic distribution is used in Extreme Value problems where it can act as a mixture of Gumbel distributions. Draw samples from a logistic distribution and plot it. loc=10, scale=1 and size =1000. "
   ]
  },
  {
   "cell_type": "code",
   "execution_count": 27,
   "metadata": {
    "colab": {
     "base_uri": "https://localhost:8080/",
     "height": 267
    },
    "executionInfo": {
     "elapsed": 510,
     "status": "ok",
     "timestamp": 1648925253822,
     "user": {
      "displayName": "Xiaoli Huan",
      "userId": "12700089891795799701"
     },
     "user_tz": 300
    },
    "id": "t2yhyP6RDXMI",
    "outputId": "2b8b2194-1abe-4d3b-fdb7-d18c91ec2e3a"
   },
   "outputs": [
    {
     "data": {
      "image/png": "[encoded data removed]",
      "text/plain": [
       "<Figure size 360x360 with 1 Axes>"
      ]
     },
     "metadata": {
      "needs_background": "light"
     },
     "output_type": "display_data"
    }
   ],
   "source": [
    "import matplotlib.pyplot as plt\n",
    "import seaborn as sns\n",
    "import numpy as np\n",
    "\n",
    "\n",
    "log_dist = np.random.logistic(loc=10, scale=1, size=1000)\n",
    "sns.displot(log_dist)\n",
    "plt.xlabel('Value')\n",
    "plt.ylabel('Density')\n",
    "plt.title('Logistic Distribution')\n",
    "plt.show()\n"
   ]
  },
  {
   "cell_type": "markdown",
   "metadata": {
    "id": "0jAtQnvcFn1g"
   },
   "source": [
    "3.\tGenerate 6 digit random secure OTP."
   ]
  },
  {
   "cell_type": "code",
   "execution_count": 32,
   "metadata": {
    "colab": {
     "base_uri": "https://localhost:8080/"
    },
    "executionInfo": {
     "elapsed": 28,
     "status": "ok",
     "timestamp": 1648925253823,
     "user": {
      "displayName": "Xiaoli Huan",
      "userId": "12700089891795799701"
     },
     "user_tz": 300
    },
    "id": "8pnAxvQyGLN7",
    "outputId": "d981f4f4-5bfa-4955-aae6-f92d3aace4d4"
   },
   "outputs": [
    {
     "data": {
      "text/plain": [
       "'088026'"
      ]
     },
     "execution_count": 32,
     "metadata": {},
     "output_type": "execute_result"
    }
   ],
   "source": [
    "import secrets\n",
    "\n",
    "otp_six = secrets.randbelow(1000000)\n",
    "otp_six = str(otp_six).zfill(6) #Adding 0 at front to make it 6 digit\n"
   ]
  },
  {
   "cell_type": "markdown",
   "metadata": {
    "id": "sRajmF4JGc9C"
   },
   "source": [
    "4.\tPick a random character from a given string such as \"Simulation and modeling\""
   ]
  },
  {
   "cell_type": "code",
   "execution_count": 35,
   "metadata": {
    "colab": {
     "base_uri": "https://localhost:8080/"
    },
    "executionInfo": {
     "elapsed": 24,
     "status": "ok",
     "timestamp": 1648925253824,
     "user": {
      "displayName": "Xiaoli Huan",
      "userId": "12700089891795799701"
     },
     "user_tz": 300
    },
    "id": "7dquFCrHGeGx",
    "outputId": "1820adae-3495-4c44-81c0-2973e40efe55"
   },
   "outputs": [
    {
     "data": {
      "text/plain": [
       "'n'"
      ]
     },
     "execution_count": 35,
     "metadata": {},
     "output_type": "execute_result"
    }
   ],
   "source": [
    "string = \"Simulation and modeling\"\n",
    "\n",
    "random_char = random.choice(string)\n",
    "random_char"
   ]
  },
  {
   "cell_type": "markdown",
   "metadata": {
    "id": "LWo72SxJGxOd"
   },
   "source": [
    "5. Import string and random module. Generate a string with 5 characters with UPPER case and lower case letters only. No numbers and a special symbol."
   ]
  },
  {
   "cell_type": "code",
   "execution_count": 59,
   "metadata": {
    "colab": {
     "base_uri": "https://localhost:8080/"
    },
    "executionInfo": {
     "elapsed": 20,
     "status": "ok",
     "timestamp": 1648925253825,
     "user": {
      "displayName": "Xiaoli Huan",
      "userId": "12700089891795799701"
     },
     "user_tz": 300
    },
    "id": "rf1xMCM8HPhw",
    "outputId": "3e8deea6-c924-404b-ab85-ceb8299f91fe"
   },
   "outputs": [
    {
     "data": {
      "text/plain": [
       "'qBffk'"
      ]
     },
     "execution_count": 59,
     "metadata": {},
     "output_type": "execute_result"
    }
   ],
   "source": [
    "import string\n",
    "\n",
    "letter_str = string.ascii_letters\n",
    "len_str = 5\n",
    "gen_str = ''.join(random.choice(letter_str) for _ in range(len_str))\n",
    "\n",
    "gen_str"
   ]
  },
  {
   "cell_type": "markdown",
   "metadata": {
    "id": "7yXtRN6WHYiu"
   },
   "source": [
    "6. Import string and random module. Generate a Password with length 10 which contains 2 upper case letters, 1 digit, and 1 special symbol. "
   ]
  },
  {
   "cell_type": "code",
   "execution_count": 74,
   "metadata": {
    "colab": {
     "base_uri": "https://localhost:8080/"
    },
    "executionInfo": {
     "elapsed": 18,
     "status": "ok",
     "timestamp": 1648925253826,
     "user": {
      "displayName": "Xiaoli Huan",
      "userId": "12700089891795799701"
     },
     "user_tz": 300
    },
    "id": "-3L50bqjHsKO",
    "outputId": "ace6e789-3855-492d-9c38-c57f7385a64f"
   },
   "outputs": [
    {
     "data": {
      "text/plain": [
       "'WT7]fQZ2t9'"
      ]
     },
     "execution_count": 74,
     "metadata": {},
     "output_type": "execute_result"
    }
   ],
   "source": [
    "password_length = 10\n",
    "upper_char = string.ascii_uppercase\n",
    "digits = string.digits\n",
    "sp_symbol = string.punctuation\n",
    "all_chars = string.ascii_lowercase + upper_char + digits + sp_symbol\n",
    "\n",
    "#Getting string with 2 upper case letters\n",
    "up = ''.join(random.choice(upper_char) for _ in range(2))\n",
    "\n",
    "#Getting 1 random digit\n",
    "dig = random.choice(digits)\n",
    "\n",
    "#Getting 1 random symbol\n",
    "sp = random.choice(sp_symbol)\n",
    "\n",
    "#Getting remaining random string\n",
    "rem = ''.join(random.choice(all_chars) for _ in range(6))\n",
    "\n",
    "#Generate a Password with length 10 which contains at least 2 upper case letters, 1 digit, and 1 special symbol\n",
    "password = up + dig + sp + rem\n",
    "password\n",
    "\n"
   ]
  },
  {
   "cell_type": "markdown",
   "metadata": {
    "id": "b5m0Kv-aIONE"
   },
   "source": [
    "7. First generate evenly spaced values within 0 to 9. Give it new shape 3x3. Then randomly permute it."
   ]
  },
  {
   "cell_type": "code",
   "execution_count": 85,
   "metadata": {
    "colab": {
     "base_uri": "https://localhost:8080/"
    },
    "executionInfo": {
     "elapsed": 16,
     "status": "ok",
     "timestamp": 1648925253827,
     "user": {
      "displayName": "Xiaoli Huan",
      "userId": "12700089891795799701"
     },
     "user_tz": 300
    },
    "id": "lA-_-8aNIYWZ",
    "outputId": "bb6e8298-8608-4077-cd06-9c9d6709c6b2"
   },
   "outputs": [
    {
     "data": {
      "text/plain": [
       "array([[0, 1, 2],\n",
       "       [6, 7, 9],\n",
       "       [3, 4, 5]])"
      ]
     },
     "execution_count": 85,
     "metadata": {},
     "output_type": "execute_result"
    }
   ],
   "source": [
    "#Generate evenly spaced values within 0-9\n",
    "values = np.linspace(0,9,9, dtype = int)\n",
    "\n",
    "#Reshapes / converts into a 3*3 matrix\n",
    "matrix = values.reshape(3,3) \n",
    "\n",
    "#Randomly permutate\n",
    "perm_matrix = np.random.permutation(matrix)\n",
    "\n",
    "perm_matrix"
   ]
  },
  {
   "cell_type": "markdown",
   "metadata": {
    "id": "A_qKoz0cJs56"
   },
   "source": [
    "8. Generate random secure token of 64 bytes and random URL"
   ]
  },
  {
   "cell_type": "code",
   "execution_count": 96,
   "metadata": {
    "colab": {
     "base_uri": "https://localhost:8080/"
    },
    "executionInfo": {
     "elapsed": 25,
     "status": "ok",
     "timestamp": 1648925253999,
     "user": {
      "displayName": "Xiaoli Huan",
      "userId": "12700089891795799701"
     },
     "user_tz": 300
    },
    "id": "i5Yl9imaKULT",
    "outputId": "bffd0637-e5b0-4a8f-f3ed-c2c291077d2c"
   },
   "outputs": [
    {
     "name": "stdout",
     "output_type": "stream",
     "text": [
      "Secure Token:  bf9cfcaed7b8060d499cfe511be07c00c9093e157da2c337753b45234b15ee66\n",
      "URL:  Fc13kn169ZOvv44kF142TtXA7ELrNj8IydEzIqeIcb97YALbJgPLGTYsgJIFqlHa-yLeve-EJCH6XEtaT62QZg\n"
     ]
    }
   ],
   "source": [
    "#Generate random secure token of 64 bytes \n",
    "#We pass 32 as the argument to generate 32 bytes, which will result in a 64-character hexadecimal string.\n",
    "secure_token = secrets.token_hex(32)\n",
    "\n",
    "#Generate a random 64 bytes URL\n",
    "url = secrets.token_urlsafe(64)\n",
    "print(\"Secure Token: \", secure_token)\n",
    "print(\"URL: \", url)"
   ]
  },
  {
   "cell_type": "markdown",
   "metadata": {
    "id": "BbqxqvkAKoco"
   },
   "source": [
    "9. Pick a random number from 1 to 6. Do it in such a way that every time you must get the same random output number(no hard coding numbers). do this 5 times."
   ]
  },
  {
   "cell_type": "code",
   "execution_count": 98,
   "metadata": {
    "colab": {
     "base_uri": "https://localhost:8080/"
    },
    "executionInfo": {
     "elapsed": 13,
     "status": "ok",
     "timestamp": 1648925253999,
     "user": {
      "displayName": "Xiaoli Huan",
      "userId": "12700089891795799701"
     },
     "user_tz": 300
    },
    "id": "GLkxztDWK0ZE",
    "outputId": "4f2287a0-8078-4dc0-e901-90bb7575ccc0"
   },
   "outputs": [
    {
     "name": "stdout",
     "output_type": "stream",
     "text": [
      "Randomly selecting same number of a dice\n",
      "2\n",
      "2\n",
      "2\n",
      "2\n",
      "2\n"
     ]
    }
   ],
   "source": [
    "n = 5\n",
    "print(\"Randomly selecting same number of a dice\")\n",
    "for _ in range(n):\n",
    "    random.seed(1)\n",
    "    \n",
    "    random_num = random.randint(1,6)\n",
    "    \n",
    "    print(random_num)"
   ]
  },
  {
   "cell_type": "markdown",
   "metadata": {
    "id": "nKU3_whrK193"
   },
   "source": [
    "10. Write an interactive Python program to play a “guess the  number” game. The computer should think of a random integer between  1 and 20 and the user (player) has to try to guess the number within six  attempts. The program should let the player know if the guess is too high or  too low. \n"
   ]
  },
  {
   "cell_type": "code",
   "execution_count": 126,
   "metadata": {
    "colab": {
     "base_uri": "https://localhost:8080/"
    },
    "executionInfo": {
     "elapsed": 26479,
     "status": "ok",
     "timestamp": 1648925280468,
     "user": {
      "displayName": "Xiaoli Huan",
      "userId": "12700089891795799701"
     },
     "user_tz": 300
    },
    "id": "ZcGQDFpSNX6r",
    "outputId": "1d12aaa1-10ee-4214-92b6-c2128490c39b"
   },
   "outputs": [
    {
     "name": "stdout",
     "output_type": "stream",
     "text": [
      "Hi! What is your name?\n",
      "Suresh\n",
      "Welcome,  Suresh! I am thinking of an integer between 1 and 20.\n",
      "Take a guess and type the integer?\n",
      "8\n",
      "Your guess is too high\n",
      "Take a guess and type the integer?\n",
      "4\n",
      "Well done  Suresh ! You guessed my number in  2 guesses!\n",
      "Game Over!\n"
     ]
    }
   ],
   "source": [
    "tries = 6\n",
    "print(\"Hi! What is your name?\")\n",
    "name = input()\n",
    "rand_num = random.randint(1,20)\n",
    "print(\"Welcome, \", name + \"! I am thinking of an integer between 1 and 20.\")\n",
    "for i in range(tries):\n",
    "    print(\"Take a guess and type the integer?\")\n",
    "    guess = int(input())\n",
    "    if guess == rand_num:\n",
    "        print(\"Well done \",name, \"! You guessed my number in \", i+1, \"guesses!\")\n",
    "        break\n",
    "    elif guess < rand_num:\n",
    "        print(\"Your guess is too low\")\n",
    "        continue\n",
    "    else:\n",
    "        print(\"Your guess is too high\")\n",
    "        continue\n",
    "print(\"Game Over!\")"
   ]
  }
 ],
 "metadata": {
  "colab": {
   "collapsed_sections": [],
   "name": "homework2_solution.ipynb",
   "provenance": []
  },
  "interpreter": {
   "hash": "c98e05168fa63a48dbdd2a4274fef77cd63f6368d59e4488c10e2ff7243bb6c6"
  },
  "kernelspec": {
   "display_name": "Python 3 (ipykernel)",
   "language": "python",
   "name": "python3"
  },
  "language_info": {
   "codemirror_mode": {
    "name": "ipython",
    "version": 3
   },
   "file_extension": ".py",
   "mimetype": "text/x-python",
   "name": "python",
   "nbconvert_exporter": "python",
   "pygments_lexer": "ipython3",
   "version": "3.9.12"
  }
 },
 "nbformat": 4,
 "nbformat_minor": 1
}
