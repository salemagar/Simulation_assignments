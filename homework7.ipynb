{
 "cells": [
  {
   "cell_type": "code",
   "execution_count": 1,
   "id": "96853327",
   "metadata": {},
   "outputs": [],
   "source": [
    "import numpy as np\n",
    "from scipy.optimize import minimize"
   ]
  },
  {
   "cell_type": "code",
   "execution_count": 8,
   "id": "a1fdb89e",
   "metadata": {},
   "outputs": [],
   "source": [
    "#Objective function to calculate optimal volume\n",
    "def objective(x):\n",
    "    l,w,h = x\n",
    "    volume = -(l*w*h) # negative sign because we want to maximize the volume\n",
    "    return volume\n",
    "\n",
    "def cons1(x):\n",
    "    l,w,h = x\n",
    "    surface_area = 2*l*w + 2*l*h + 2*w*h\n",
    "    return 10 - area\n",
    "\n"
   ]
  },
  {
   "cell_type": "code",
   "execution_count": 13,
   "id": "97f3999c",
   "metadata": {},
   "outputs": [],
   "source": [
    "#Initial guesses\n",
    "x0 = [1.0,1.0,1.0]\n",
    "\n",
    "#Bounds for l,w,h\n",
    "bnds = [(1.0,5.0),(1.0,5.0),(1.0,5.0)]\n",
    "\n",
    "#Defining const as inequality\n",
    "cons = {'type': 'ineq', 'fun': cons1}\n",
    "\n",
    "const_list = [cons]\n"
   ]
  },
  {
   "cell_type": "code",
   "execution_count": 10,
   "id": "8fe8013e",
   "metadata": {},
   "outputs": [
    {
     "data": {
      "text/plain": [
       "     fun: -2.151657414467269\n",
       "     jac: array([-1.66666707, -1.66666713, -1.66666716])\n",
       " message: 'Optimization terminated successfully'\n",
       "    nfev: 17\n",
       "     nit: 4\n",
       "    njev: 4\n",
       "  status: 0\n",
       " success: True\n",
       "       x: array([1.29099447, 1.29099446, 1.29099442])"
      ]
     },
     "execution_count": 10,
     "metadata": {},
     "output_type": "execute_result"
    }
   ],
   "source": [
    "#Calculating the optimum volume, l, w, h\n",
    "res = minimize(objective, method='SLSQP', x0=x0, bounds=bnds, constraints=const_list)\n",
    "res"
   ]
  },
  {
   "cell_type": "code",
   "execution_count": 12,
   "id": "18558151",
   "metadata": {},
   "outputs": [
    {
     "ename": "ValueError",
     "evalue": "too many values to unpack (expected 2)",
     "output_type": "error",
     "traceback": [
      "\u001b[1;31m---------------------------------------------------------------------------\u001b[0m",
      "\u001b[1;31mValueError\u001b[0m                                Traceback (most recent call last)",
      "Input \u001b[1;32mIn [12]\u001b[0m, in \u001b[0;36m<cell line: 1>\u001b[1;34m()\u001b[0m\n\u001b[1;32m----> 1\u001b[0m l,w \u001b[38;5;241m=\u001b[39m res\u001b[38;5;241m.\u001b[39mx\n\u001b[0;32m      2\u001b[0m \u001b[38;5;28mprint\u001b[39m(l,w)\n",
      "\u001b[1;31mValueError\u001b[0m: too many values to unpack (expected 2)"
     ]
    }
   ],
   "source": [
    "l,w,h = res.x\n",
    "surface_area = 2*l*w + 2*l*h + 2*w*h\n",
    "volume = -(res.fun) #converting it back to positive\n",
    "\n",
    "print('Optimal length:', l)\n",
    "print('Optimal width:', w)\n",
    "print('Optimal height:', l)\n",
    "print('Optimal length:', l)\n",
    "print('Optimal length:', l)\n"
   ]
  },
  {
   "cell_type": "code",
   "execution_count": null,
   "id": "1cd16646",
   "metadata": {},
   "outputs": [],
   "source": []
  }
 ],
 "metadata": {
  "kernelspec": {
   "display_name": "Python 3 (ipykernel)",
   "language": "python",
   "name": "python3"
  },
  "language_info": {
   "codemirror_mode": {
    "name": "ipython",
    "version": 3
   },
   "file_extension": ".py",
   "mimetype": "text/x-python",
   "name": "python",
   "nbconvert_exporter": "python",
   "pygments_lexer": "ipython3",
   "version": "3.9.12"
  }
 },
 "nbformat": 4,
 "nbformat_minor": 5
}
