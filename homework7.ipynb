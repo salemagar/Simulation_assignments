{
 "cells": [
  {
   "cell_type": "code",
   "execution_count": 1,
   "id": "fafb10e6",
   "metadata": {},
   "outputs": [],
   "source": [
    "import numpy as np\n",
    "from scipy.optimize import minimize"
   ]
  },
  {
   "cell_type": "code",
   "execution_count": 8,
   "id": "d42e3720",
   "metadata": {},
   "outputs": [],
   "source": [
    "#Objective function to calculate optimal volume\n",
    "def objective(x):\n",
    "    l,w,h = x\n",
    "    volume = -(l*w*h) # negative sign because we want to maximize the volume\n",
    "    return volume\n",
    "\n",
    "def cons1(x):\n",
    "    l,w,h = x\n",
    "    surface_area = 2*l*w + 2*l*h + 2*w*h\n",
    "    return 10 - area\n",
    "\n"
   ]
  },
  {
   "cell_type": "code",
   "execution_count": 13,
   "id": "e0667eb2",
   "metadata": {},
   "outputs": [],
   "source": [
    "#Initial guesses\n",
    "x0 = [1.0,1.0,1.0]\n",
    "\n",
    "#Bounds for l,w,h\n",
    "bnds = [(1.0,5.0),(1.0,5.0),(1.0,5.0)]\n",
    "\n",
    "#Defining const as inequality\n",
    "cons = {'type': 'ineq', 'fun': cons1}\n",
    "\n",
    "const_list = [cons]\n"
   ]
  },
  {
   "cell_type": "code",
   "execution_count": 10,
   "id": "917c9042",
   "metadata": {},
   "outputs": [
    {
     "data": {
      "text/plain": [
       "     fun: -2.151657414467269\n",
       "     jac: array([-1.66666707, -1.66666713, -1.66666716])\n",
       " message: 'Optimization terminated successfully'\n",
       "    nfev: 17\n",
       "     nit: 4\n",
       "    njev: 4\n",
       "  status: 0\n",
       " success: True\n",
       "       x: array([1.29099447, 1.29099446, 1.29099442])"
      ]
     },
     "execution_count": 10,
     "metadata": {},
     "output_type": "execute_result"
    }
   ],
   "source": [
    "#Calculating the optimum volume, l, w, h\n",
    "res = minimize(objective, method='SLSQP', x0=x0, bounds=bnds, constraints=const_list)\n",
    "res"
   ]
  },
  {
   "cell_type": "code",
   "execution_count": 14,
   "id": "8485b214",
   "metadata": {},
   "outputs": [
    {
     "name": "stdout",
     "output_type": "stream",
     "text": [
      "Optimal length: 1.2909944727867015\n",
      "Optimal width: 1.290994455352175\n",
      "Optimal height: 1.2909944180130968\n",
      "Optimal surface area: 9.999999999713689\n",
      "Optimal volume: 2.151657414467269\n"
     ]
    }
   ],
   "source": [
    "l,w,h = res.x\n",
    "surface_area = 2*l*w + 2*l*h + 2*w*h\n",
    "volume = -(res.fun) #converting it back to positive\n",
    "\n",
    "print('Optimal length:', l)\n",
    "print('Optimal width:', w)\n",
    "print('Optimal height:', h)\n",
    "print('Optimal surface area:', surface_area)\n",
    "print('Optimal volume:', volume)\n"
   ]
  },
  {
   "cell_type": "code",
   "execution_count": null,
   "id": "30b14135",
   "metadata": {},
   "outputs": [],
   "source": []
  }
 ],
 "metadata": {
  "kernelspec": {
   "display_name": "Python 3 (ipykernel)",
   "language": "python",
   "name": "python3"
  },
  "language_info": {
   "codemirror_mode": {
    "name": "ipython",
    "version": 3
   },
   "file_extension": ".py",
   "mimetype": "text/x-python",
   "name": "python",
   "nbconvert_exporter": "python",
   "pygments_lexer": "ipython3",
   "version": "3.9.12"
  }
 },
 "nbformat": 4,
 "nbformat_minor": 5
}
