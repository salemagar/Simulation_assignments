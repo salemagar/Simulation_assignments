{
 "cells": [
  {
   "cell_type": "code",
   "execution_count": 1,
   "id": "40942613",
   "metadata": {},
   "outputs": [],
   "source": [
    "import random\n",
    "import matplotlib.pyplot as plt"
   ]
  },
  {
   "cell_type": "code",
   "execution_count": 14,
   "id": "9d829b79",
   "metadata": {},
   "outputs": [],
   "source": [
    "def MonteCarlo_sim_prob(n_trials):\n",
    "    stick_wins = 0\n",
    "    switch_wins = 0\n",
    "    \n",
    "    for _ in range(n_trials):\n",
    "        boxes = [100, 10, 10]  # Box 1 contains $100, Boxes 2 and 3 contain $10\n",
    "        random.shuffle(boxes)  # Shuffling the boxes\n",
    "        \n",
    "        # Choosing a box\n",
    "        chosen_box = random.randint(0, 2)\n",
    "        \n",
    "        # If the chosen box contains $100, the friend can open either box 2 or 3\n",
    "        if boxes[chosen_box] == 100:\n",
    "            opened_box = random.choice([1, 2])\n",
    "        else:\n",
    "            opened_box = 3\n",
    "        \n",
    "        # Switch to the other unopened box\n",
    "        switch_box = [i for i in range(3) if i != chosen_box and i != opened_box][0]\n",
    "        \n",
    "        # Check if the switched box contains $100\n",
    "        if boxes[switch_box] == 100:\n",
    "            switch_wins += 1\n",
    "        else:\n",
    "            stick_wins += 1\n",
    "    \n",
    "    return stick_wins, switch_wins"
   ]
  },
  {
   "cell_type": "code",
   "execution_count": 29,
   "id": "c6605892",
   "metadata": {},
   "outputs": [
    {
     "name": "stdout",
     "output_type": "stream",
     "text": [
      "Sticking with the initial choice:\n",
      "  Number of wins: 66657\n",
      "  Probability of winning: 0.66657\n",
      "\n",
      "Switching to another box:\n",
      "  Number of wins: 33343\n",
      "  Probability of winning: 0.33343\n"
     ]
    },
    {
     "data": {
      "image/png": "[encoded data removed]",
      "text/plain": [
       "<Figure size 432x288 with 1 Axes>"
      ]
     },
     "metadata": {
      "needs_background": "light"
     },
     "output_type": "display_data"
    }
   ],
   "source": [
    "# Running the simulation\n",
    "n_trials = 100000\n",
    "stick_wins, switch_wins = MonteCarlo_sim_prob(n_trials)\n",
    "\n",
    "# Calculating probabilities\n",
    "stick_prob = stick_wins / n_trials\n",
    "switch_prob = switch_wins / n_trials\n",
    "\n",
    "# Printing the results\n",
    "print(\"Sticking with the initial choice:\")\n",
    "print(\"  Number of wins:\", stick_wins)\n",
    "print(\"  Probability of winning:\", stick_prob)\n",
    "\n",
    "print(\"\\nSwitching to another box:\")\n",
    "print(\"  Number of wins:\", switch_wins)\n",
    "print(\"  Probability of winning:\", switch_prob)\n",
    "\n",
    "# Creating a bar graph to visualize the probabilities\n",
    "labels = ['Sticking', 'Switching']\n",
    "probabilities = [stick_prob, switch_prob]\n",
    "\n",
    "plt.bar(labels, probabilities)\n",
    "plt.ylabel('Probability')\n",
    "plt.title('Monte Carlo Simulation Results')\n",
    "plt.show()\n"
   ]
  },
  {
   "cell_type": "code",
   "execution_count": 28,
   "id": "703f8e93",
   "metadata": {},
   "outputs": [
    {
     "name": "stdout",
     "output_type": "stream",
     "text": [
      "Approximated integral: 0.021430194116423714\n"
     ]
    }
   ],
   "source": [
    "from scipy.integrate import quad\n",
    "import numpy as np\n",
    "\n",
    "def MonteCarlo_Integration(func, lower_bound, upper_bound, n_samples):\n",
    "    total = 0.0\n",
    "    \n",
    "    #for each random value of x between 0 and 1, we will calucate initial integral and generate cumulative sum as total\n",
    "    for _ in range(n_samples):\n",
    "        x = random.uniform(lower_bound, upper_bound)\n",
    "        total += func(x)\n",
    "    \n",
    "    average = total / n_samples\n",
    "    integral = average * (upper_bound - lower_bound)\n",
    "    \n",
    "    return integral\n",
    "\n",
    "def function(x):\n",
    "    return x * np.cos(71 * x) + np.sin(13 * x)\n",
    "\n",
    "lower_bound = 0\n",
    "upper_bound = 1\n",
    "n_samples = 100000\n",
    "\n",
    "integral = MonteCarlo_Integration(function, lower_bound, upper_bound, n_samples)\n",
    "print(\"Approximated integral:\", integral)\n"
   ]
  },
  {
   "cell_type": "code",
   "execution_count": null,
   "id": "2694a196",
   "metadata": {},
   "outputs": [],
   "source": []
  }
 ],
 "metadata": {
  "kernelspec": {
   "display_name": "Python 3 (ipykernel)",
   "language": "python",
   "name": "python3"
  },
  "language_info": {
   "codemirror_mode": {
    "name": "ipython",
    "version": 3
   },
   "file_extension": ".py",
   "mimetype": "text/x-python",
   "name": "python",
   "nbconvert_exporter": "python",
   "pygments_lexer": "ipython3",
   "version": "3.9.12"
  }
 },
 "nbformat": 4,
 "nbformat_minor": 5
}
